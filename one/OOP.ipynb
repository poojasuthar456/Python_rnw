{
 "cells": [
  {
   "cell_type": "code",
   "execution_count": null,
   "id": "8dec0ce6",
   "metadata": {},
   "outputs": [
    {
     "ename": "SyntaxError",
     "evalue": "incomplete input (1426287198.py, line 44)",
     "output_type": "error",
     "traceback": [
      "\u001b[1;36m  Cell \u001b[1;32mIn[1], line 44\u001b[1;36m\u001b[0m\n\u001b[1;33m    \u001b[0m\n\u001b[1;37m    ^\u001b[0m\n\u001b[1;31mSyntaxError\u001b[0m\u001b[1;31m:\u001b[0m incomplete input\n"
     ]
    }
   ],
   "source": [
    "print(\"--- Python OOP Project: Employee Management System ---\")\n",
    "\n",
    "Total_Person=[]\n",
    "\n",
    "while True:\n",
    "    choose=input(\"\"\"Choose an operation:\\n\n",
    "             1. Create a Person\\n\n",
    "             2. Create an Employee\\n\n",
    "             3. Create a Manager\\n\n",
    "             4. Show Details\\n\n",
    "             5. Compare Salaries\\n\n",
    "             6. Exit\\n\n",
    "             \\n\n",
    "             Enter your choice: \"\"\")\n",
    "    \n",
    "    if choose =='1':\n",
    "        class Person:\n",
    "            name = input(\"Enter Name: \")\n",
    "            age = input(\"Enter age: \")\n",
    "\n",
    "\n",
    "            def __init__(self, name, age):\n",
    "                self.name= input(\"Enter Name: \") \n",
    "                self.age= input(\"Enter age: \")\n",
    "\n",
    "            def get(self):\n",
    "                print(f\"Person created with name: ,{self.name} , and age: {self.age}\")\n",
    " \n",
    "        a1=Person()\n",
    "        a1.get()\n",
    "\n",
    "        # # ask= Person()\n",
    "\n",
    "        # # ask.name=input(\"Enter Name: \")\n",
    "        # # ask.age= input(\"Enter Age: \")\n",
    "\n",
    "        # print(\"Person created with name:\", self.name, \"and age:\", self.age, end='.')\n",
    "\n",
    "    if choose =='2':\n",
    "        class Employee:\n",
    "            name = None\n",
    "            age = None\n",
    "            emp_id = None\n",
    "            salary = None\n",
    "\n",
    "        enter= Employee()\n",
    "\n",
    "        enter.name = input(\"Enter Name: \")\n",
    "        enter.age = input(\"Enter Age: \")\n",
    "        enter.emp_id = input(\"Enter Employee ID: \")\n",
    "        enter.salary = input(\"Enter salary: \")\n",
    "\n",
    "        print(\"Employee created wuth name: \", enter.name, \"age: \", enter.age, \"ID: \", enter.emp_id, \"and salary: \", enter.salary,end='.')\n",
    "\n",
    "    # if choose =='3':\n",
    "\n",
    "\n"
   ]
  }
 ],
 "metadata": {
  "kernelspec": {
   "display_name": "Python 3",
   "language": "python",
   "name": "python3"
  },
  "language_info": {
   "codemirror_mode": {
    "name": "ipython",
    "version": 3
   },
   "file_extension": ".py",
   "mimetype": "text/x-python",
   "name": "python",
   "nbconvert_exporter": "python",
   "pygments_lexer": "ipython3",
   "version": "3.10.6"
  }
 },
 "nbformat": 4,
 "nbformat_minor": 5
}
