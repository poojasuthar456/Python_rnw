{
 "cells": [
  {
   "cell_type": "code",
   "execution_count": 3,
   "id": "76818218",
   "metadata": {},
   "outputs": [
    {
     "name": "stdout",
     "output_type": "stream",
     "text": [
      "Current folder: d:\\Python_rnw\\one\n",
      "Files: ['c.py', 'collection manipulator test.ipynb', 'collection manipultor.py', 'file_operator.ipynb', 'file_operator.py', 'functionalTreat.ipynb', 'fundamental_test.ipynb', 'funtionalTreat.py', 'intro1.ipynb', 'logical.py', 'logicbox.ipynb', 'MyJournal.txt', 'OOP.ipynb', 'oop.py', 'practice.py', 'test_folder', 'xyz.ipynb']\n"
     ]
    }
   ],
   "source": [
    "import os\n",
    "\n",
    "print(\"Current folder:\", os.getcwd())      # Shows your current working directory\n",
    "\n",
    "# os.mkdir(\"test_folder\")                    # Creates a new folder named \"test_folder\"\n",
    "\n",
    "print(\"Files:\", os.listdir())              # Lists everything in the current folder\n",
    "\n"
   ]
  },
  {
   "cell_type": "code",
   "execution_count": null,
   "id": "41b67cf0",
   "metadata": {},
   "outputs": [],
   "source": [
    "import datetime"
   ]
  }
 ],
 "metadata": {
  "kernelspec": {
   "display_name": "Python 3",
   "language": "python",
   "name": "python3"
  },
  "language_info": {
   "codemirror_mode": {
    "name": "ipython",
    "version": 3
   },
   "file_extension": ".py",
   "mimetype": "text/x-python",
   "name": "python",
   "nbconvert_exporter": "python",
   "pygments_lexer": "ipython3",
   "version": "3.10.6"
  }
 },
 "nbformat": 4,
 "nbformat_minor": 5
}
