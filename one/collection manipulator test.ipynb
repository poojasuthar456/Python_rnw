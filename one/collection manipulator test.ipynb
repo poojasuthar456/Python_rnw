{
 "cells": [
  {
   "cell_type": "code",
   "execution_count": null,
   "id": "003f9861",
   "metadata": {},
   "outputs": [
    {
     "name": "stdout",
     "output_type": "stream",
     "text": [
      "Welcome to the client data organizer!\n"
     ]
    },
    {
     "name": "stdout",
     "output_type": "stream",
     "text": [
      "Enter Student details:\n",
      "Student Added Successfully\n",
      "[' math', 'math']\n",
      "Enter Student details:\n",
      "Student Added Successfully\n",
      "Display All Student:\n",
      "[['101', 'poo', '101', '19', 'math, math', 'a+'], ['101', 'pooja', '40/54', '18', 'math, hindi, englih', 'a+']]\n",
      "[' englih', ' hindi', 'math']\n"
     ]
    }
   ],
   "source": [
    "print(\"Welcome to the client data organizer!\")\n",
    "\n",
    "Student=[]\n",
    "\n",
    "while True:\n",
    "    option = input(\"\"\"Select an Option:\\n\n",
    "                    1. Add Student\\n\n",
    "                    2. Display All Students\\n\n",
    "                    3. Update Student Information\\n\n",
    "                    4. Delete Student\\n\n",
    "                    5. Display Subject Offered\\n\n",
    "                    6.Exit\\n\n",
    "                    Enter Your Choice:\"\"\")\n",
    "    \n",
    "    if option=='1':\n",
    "        \n",
    "        temp = []\n",
    "        \n",
    "        print(\"Enter Student details:\")\n",
    "        \n",
    "        ID = (input(\"Enter Student ID:\"))\n",
    "        Name = input(\"Enter Student's Name:\")\n",
    "        DOB = input(\"Date of birth[DD/MM/YYYY]:\")\n",
    "        Age = input(\"Enter Your Age:\")\n",
    "        subject = input(\"Enter Your Subjects:\")\n",
    "        Grade = input(\"Enter Your Grade:\")\n",
    "        \n",
    "        temp.append(ID)\n",
    "        temp.append(Name)\n",
    "        temp.append(DOB)\n",
    "        temp.append(Age)\n",
    "        temp.append(subject)\n",
    "        temp.append(Grade)\n",
    "        \n",
    "        Student.append(temp)\n",
    "\n",
    "        print(\"Student Added Successfully\")\n",
    "    \n",
    "    elif option=='2':\n",
    "        print(\"Display All Student:\")\n",
    "        # print(ID,Name, DOB, Age, subject, Grade )\n",
    "        print(Student)\n",
    "\n",
    "    elif option=='3':\n",
    "        update= input(\"Enter Student's ID:\")\n",
    "        found = False\n",
    "        for i in range(len(Student)):\n",
    "            if Student[i][0]==update:\n",
    "                found = True\n",
    "                change = input(\"\"\"What do you wanna change?\\n\n",
    "                            1. if you wanna change the name:\\n\n",
    "                            2. if you wanna change the date of birth:\\n\n",
    "                            3. if you wanna change the age:\\n\n",
    "                            4. if you wanna change the subject:\\n\n",
    "                            5. if you wanna change the grade:\"\"\")\n",
    "                \n",
    "\n",
    "                if change=='1':\n",
    "                    Student[i][1]=input(\"Enter the new name:\")\n",
    "                elif change=='2':\n",
    "                    Student[i][2]=input(\"Enter the new date of birth[DD/MM/YYYY]:\")\n",
    "                elif change=='3':\n",
    "                    Student[i][3]=input(\"Enter the new age:\")\n",
    "                elif change=='4':\n",
    "                    Student[i][4]=input(\"Enter the new subject:\")\n",
    "                elif change=='5':\n",
    "                    Student[i][5]=input(\"Enter the new Grade:\")\n",
    "                else:\n",
    "                    print(\"Invalid entry\")\n",
    "                print(\"Student date updated successfully\")\n",
    "                break\n",
    "        if not found:\n",
    "            print(\"Student ID not found.\")\n",
    "            \n",
    "    elif option =='4':\n",
    "        delete= input(\"Enter the ID of the student to delete:\")\n",
    "        for i in range(len(Student)):\n",
    "            if Student[i][0] == delete:\n",
    "                del Student[i]\n",
    "                print(\"Student's ID deleted successfully.\")\n",
    "                break\n",
    "        else:\n",
    "            print(\"Student's ID not found.\")\n",
    "\n",
    "    elif option =='5':\n",
    "        subjects = []\n",
    "        for i in range(len(Student)):\n",
    "            s=Student[i][4].split(',')\n",
    "            subjects.append(s[i][4])\n",
    "\n",
    "        print(list(set(s)))\n",
    "\n",
    "    elif option =='6':\n",
    "        print(\"Exiting the program.\")\n",
    "\n",
    "    else:\n",
    "        print(\"Invalid choice, please try again.\")        \n",
    "        \n",
    "        \n",
    "\n",
    "        "
   ]
  },
  {
   "cell_type": "code",
   "execution_count": 3,
   "id": "c29559e8",
   "metadata": {},
   "outputs": [
    {
     "name": "stdout",
     "output_type": "stream",
     "text": [
      "['M', 'P']\n"
     ]
    }
   ],
   "source": [
    "c = ['M,P,M,P']\n",
    "# Split the single string by commas\n",
    "all_subjects = c[0].split(',')\n",
    "# Remove duplicates using set\n",
    "unique_subjects = list(set(all_subjects))\n",
    "print(unique_subjects)\n"
   ]
  },
  {
   "cell_type": "code",
   "execution_count": null,
   "id": "50eb27c0",
   "metadata": {},
   "outputs": [],
   "source": []
  }
 ],
 "metadata": {
  "kernelspec": {
   "display_name": "rnw",
   "language": "python",
   "name": "python3"
  },
  "language_info": {
   "codemirror_mode": {
    "name": "ipython",
    "version": 3
   },
   "file_extension": ".py",
   "mimetype": "text/x-python",
   "name": "python",
   "nbconvert_exporter": "python",
   "pygments_lexer": "ipython3",
   "version": "3.10.6"
  }
 },
 "nbformat": 4,
 "nbformat_minor": 5
}
