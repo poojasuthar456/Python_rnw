{
 "cells": [
  {
   "cell_type": "code",
   "execution_count": 3,
   "id": "dcb00c39",
   "metadata": {},
   "outputs": [
    {
     "name": "stdout",
     "output_type": "stream",
     "text": [
      "[2, 3, 4, 5, 7, 6]\n"
     ]
    }
   ],
   "source": [
    "practice=[2,3,4,5,7,6]\n",
    "print(practice)"
   ]
  },
  {
   "cell_type": "code",
   "execution_count": 7,
   "id": "b69425f3",
   "metadata": {},
   "outputs": [
    {
     "name": "stdout",
     "output_type": "stream",
     "text": [
      "None\n",
      "[2, 3, 4, 5, 6, 7]\n"
     ]
    }
   ],
   "source": [
    "print(practice.sort())\n",
    "print(practice)\n"
   ]
  },
  {
   "cell_type": "code",
   "execution_count": 25,
   "id": "8045f7e9",
   "metadata": {},
   "outputs": [
    {
     "name": "stdout",
     "output_type": "stream",
     "text": [
      "[7, 6, 5, 4, 3, 2]\n"
     ]
    }
   ],
   "source": [
    "practice.sort(reverse=True)\n",
    "print(practice)"
   ]
  },
  {
   "cell_type": "code",
   "execution_count": 3,
   "id": "d41cafdf",
   "metadata": {},
   "outputs": [
    {
     "ename": "SyntaxError",
     "evalue": "Missing parentheses in call to 'print'. Did you mean print(...)? (2570410718.py, line 2)",
     "output_type": "error",
     "traceback": [
      "\u001b[1;36m  Cell \u001b[1;32mIn[3], line 2\u001b[1;36m\u001b[0m\n\u001b[1;33m    print{l1[0]}\u001b[0m\n\u001b[1;37m    ^\u001b[0m\n\u001b[1;31mSyntaxError\u001b[0m\u001b[1;31m:\u001b[0m Missing parentheses in call to 'print'. Did you mean print(...)?\n"
     ]
    }
   ],
   "source": [
    "l1={\"name:pooja,age:18,fav_number:4\"}\n",
    "print{l1[0]}\n"
   ]
  },
  {
   "cell_type": "code",
   "execution_count": 10,
   "id": "c0cd1ae1",
   "metadata": {},
   "outputs": [
    {
     "name": "stdout",
     "output_type": "stream",
     "text": [
      "the number is even\n"
     ]
    }
   ],
   "source": [
    "no = int(input (\"enter your fav number:\" ))\n",
    "if (no%2==0):\n",
    "  print(\"the number is even\")\n",
    "else:\n",
    "    print(\"the number is odd\")"
   ]
  },
  {
   "cell_type": "code",
   "execution_count": 1,
   "id": "1dd5f5cb",
   "metadata": {},
   "outputs": [
    {
     "name": "stdout",
     "output_type": "stream",
     "text": [
      "[2, 3, 5, 6, 7]\n"
     ]
    }
   ],
   "source": [
    "l1 = [2,5,6,7,3]\n",
    "l1.sort()\n",
    "print(l1)"
   ]
  },
  {
   "cell_type": "code",
   "execution_count": 5,
   "id": "5c9c3da2",
   "metadata": {},
   "outputs": [
    {
     "name": "stdout",
     "output_type": "stream",
     "text": [
      "[2, 3, 5, 6, 7]\n"
     ]
    }
   ],
   "source": [
    "for i in l1:\n",
    "    l1.sort()\n",
    "print(l1)"
   ]
  },
  {
   "cell_type": "code",
   "execution_count": 8,
   "id": "4a3b6e56",
   "metadata": {},
   "outputs": [
    {
     "name": "stdout",
     "output_type": "stream",
     "text": [
      "6\n"
     ]
    }
   ],
   "source": [
    "print(l1[3])"
   ]
  },
  {
   "cell_type": "code",
   "execution_count": 17,
   "id": "89acc488",
   "metadata": {},
   "outputs": [
    {
     "name": "stdout",
     "output_type": "stream",
     "text": [
      "the maximum number is c: 7\n"
     ]
    }
   ],
   "source": [
    "a=2\n",
    "b=5\n",
    "c=7\n",
    "if a>b>c:\n",
    "    print(\"the maximum number is a:\",a)\n",
    "if a<b>c:\n",
    "        print(\"the maximum number is b:\", b)\n",
    "else:\n",
    "        print(\"the maximum number is c:\",c)"
   ]
  }
 ],
 "metadata": {
  "kernelspec": {
   "display_name": "Python 3",
   "language": "python",
   "name": "python3"
  },
  "language_info": {
   "codemirror_mode": {
    "name": "ipython",
    "version": 3
   },
   "file_extension": ".py",
   "mimetype": "text/x-python",
   "name": "python",
   "nbconvert_exporter": "python",
   "pygments_lexer": "ipython3",
   "version": "3.10.6"
  }
 },
 "nbformat": 4,
 "nbformat_minor": 5
}
