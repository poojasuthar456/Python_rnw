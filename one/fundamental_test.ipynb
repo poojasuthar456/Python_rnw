{
 "cells": [
  {
   "cell_type": "code",
   "execution_count": 10,
   "id": "10abcba8",
   "metadata": {},
   "outputs": [
    {
     "name": "stdout",
     "output_type": "stream",
     "text": [
      "We welcome you to our interactive perosnal data collector program!\n",
      "Thank you! here is the information we collected:\n",
      "Name: pooja (Type: <class 'str'> Memory Address: 2399037332720 )\n",
      "Age: 18 (Type: <class 'int'> Memory Address: 2398935253776 )\n",
      "Name: 1.5 (Type: <class 'float'> Memory Address: 2399034534000 )\n",
      "Name: 4 (Type: <class 'int'> Memory Address: 2398935253328 )\n",
      "your birthyear is approximately: 2007 (based on your age of: 18 )\n",
      "Thank you for using us, Goodbye!\n"
     ]
    }
   ],
   "source": [
    "print(\"We welcome you to our interactive perosnal data collector program!\")\n",
    "\n",
    "name=input(\"Please enter your name:\")\n",
    "age= int(input(\"Enter your age:\"))\n",
    "height= float(input(\"Enter your height in meters:\"))\n",
    "fav_number= int(input(\"Enter your favourite number:\"))\n",
    "\n",
    "print(\"Thank you! here is the information we collected:\")\n",
    "\n",
    "print(\"Name:\", name , \"(Type:\", type(name),\"Memory Address:\" ,id(name),\")\")\n",
    "print(\"Age:\", age , \"(Type:\", type(age),\"Memory Address:\" ,id(age),\")\")\n",
    "print(\"Name:\", height , \"(Type:\", type(height),\"Memory Address:\" ,id(height),\")\")\n",
    "print(\"Name:\", fav_number , \"(Type:\", type(fav_number),\"Memory Address:\" ,id(fav_number),\")\")\n",
    "\n",
    "print(\"your birthyear is approximately:\" , 2025-age , \"(based on your age of:\", age,\")\")\n",
    "\n",
    "print(\"Thank you for using us, Goodbye!\")\n"
   ]
  }
 ],
 "metadata": {
  "kernelspec": {
   "display_name": "pooja",
   "language": "python",
   "name": "python3"
  },
  "language_info": {
   "codemirror_mode": {
    "name": "ipython",
    "version": 3
   },
   "file_extension": ".py",
   "mimetype": "text/x-python",
   "name": "python",
   "nbconvert_exporter": "python",
   "pygments_lexer": "ipython3",
   "version": "3.10.6"
  }
 },
 "nbformat": 4,
 "nbformat_minor": 5
}
