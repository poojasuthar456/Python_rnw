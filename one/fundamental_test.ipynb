{
 "cells": [
  {
   "cell_type": "code",
   "execution_count": 1,
   "id": "10abcba8",
   "metadata": {},
   "outputs": [
    {
     "name": "stdout",
     "output_type": "stream",
     "text": [
      "We welcome you to our interactive perosnal data collector program!\n",
      "Thank you! here is the information we collected:\n",
      "Name: xyz (Type: <class 'str'> Memory Address: 2254050291696 )\n",
      "Age: 56 (Type: <class 'int'> Memory Address: 2253969491920 )\n",
      "Name: 78.0 (Type: <class 'float'> Memory Address: 2254044226544 )\n",
      "Name: 89 (Type: <class 'int'> Memory Address: 2253969492976 )\n",
      "your birthyear is approximately: 1969 (based on your age of: 56 )\n",
      "Thank you for using us, Goodbye!\n"
     ]
    }
   ],
   "source": [
    "print(\"We welcome you to our interactive perosnal data collector program!\")\n",
    "\n",
    "name=input(\"Please enter your name:\")\n",
    "age= int(input(\"Enter your age:\"))\n",
    "height= float(input(\"Enter your height in meters:\"))\n",
    "fav_number= int(input(\"Enter your favourite number:\"))\n",
    "\n",
    "print(\"Thank you! here is the information we collected:\")\n",
    "\n",
    "print(\"Name:\", name , \"(Type:\", type(name),\"Memory Address:\" ,id(name),\")\")\n",
    "print(\"Age:\", age , \"(Type:\", type(age),\"Memory Address:\" ,id(age),\")\")\n",
    "print(\"Name:\", height , \"(Type:\", type(height),\"Memory Address:\" ,id(height),\")\")\n",
    "print(\"Name:\", fav_number , \"(Type:\", type(fav_number),\"Memory Address:\" ,id(fav_number),\")\")\n",
    "\n",
    "print(\"your birthyear is approximately:\" , 2025-age , \"(based on your age of:\", age,\")\")\n",
    "\n",
    "print(\"Thank you for using us, Goodbye!\")\n"
   ]
  },
  {
   "cell_type": "code",
   "execution_count": null,
   "id": "9d974b05",
   "metadata": {},
   "outputs": [],
   "source": []
  }
 ],
 "metadata": {
  "kernelspec": {
   "display_name": "rnw",
   "language": "python",
   "name": "python3"
  },
  "language_info": {
   "codemirror_mode": {
    "name": "ipython",
    "version": 3
   },
   "file_extension": ".py",
   "mimetype": "text/x-python",
   "name": "python",
   "nbconvert_exporter": "python",
   "pygments_lexer": "ipython3",
   "version": "3.10.6"
  }
 },
 "nbformat": 4,
 "nbformat_minor": 5
}
