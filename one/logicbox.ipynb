{
 "cells": [
  {
   "cell_type": "code",
   "execution_count": null,
   "id": "80b2c961",
   "metadata": {},
   "outputs": [
    {
     "name": "stdout",
     "output_type": "stream",
     "text": [
      "Welcome to the program which can help you generate pattern or analyse number!\n",
      "Enter your choice: 1\n",
      "* \n",
      "* * \n",
      "* * * \n",
      "* * * * \n",
      "* * * * * \n"
     ]
    }
   ],
   "source": [
    "print(\"Welcome to the program which can help you generate pattern or analyse number!\")\\\n",
    "\n",
    "while True:\n",
    "\n",
    "    choice = input(\"\"\"Select an option: \\n\n",
    "                    1. Generate a Pattern \\n\n",
    "                    2. Analyze a Range of Numbers \\n\n",
    "                    3. Exit: \\n\n",
    "                   \"\"\")\n",
    "    \n",
    "    print(\"Enter your choice:\", choice)\n",
    "\n",
    "    if choice == '1':\n",
    "        choose = input(\"\"\"Choose a pattern type:\" \\n\n",
    "                    1. Rigth-angled Triangle:  \\n\n",
    "                    2. Pyramid:  \\n\n",
    "                    3. Left-angled Triangle:\\n\n",
    "                       \"\"\")\n",
    "\n",
    "        rows = int(input(\"Enter the number of rows in pattern:\"))\n",
    "\n",
    "        if choose =='1':\n",
    "\n",
    "            for i in range(1, rows+1):\n",
    "                for j in range(1,i+1):\n",
    "                    print('*', end=' ')\n",
    "                print()\n",
    "\n",
    "        elif choose =='2':\n",
    "            for i in range(1, rows + 1):\n",
    "                for j in range(rows - i):\n",
    "                    print(' ', end='')\n",
    "                for p in range (2 * i - 1):\n",
    "                    print('*', end='')\n",
    "                print()\n",
    "\n",
    "        elif choose =='3':\n",
    "            for i in range(1, rows+1):\n",
    "                for j in range(1, rows+1):\n",
    "                    if (j<=rows-i):\n",
    "                        print(\" \",end =' ')\n",
    "                    else:\n",
    "                        print('*' , end=' ')\n",
    "                print()\n",
    "        else:\n",
    "            print(\"Invalid Pattern\")\n",
    "\n",
    "    elif choice =='2':\n",
    "    \n",
    "        start= int(input(\"Enter the Start of the Range:\"))\n",
    "        end= int(input(\"Enter the end of the Range:\"))\n",
    "\n",
    "        even = []\n",
    "        odd = []\n",
    "        sum = 0\n",
    "\n",
    "        for num in range(start, end):\n",
    "            sum += num\n",
    "            if num % 2==0:\n",
    "                even.append(num)\n",
    "                \n",
    "                \n",
    "            else:\n",
    "                odd.append(num)\n",
    "\n",
    "        print(\" Even numbers are:\",even)\n",
    "        print(\"Odd number are.\", odd)\n",
    "        print(\"Sum of all numbers in the range=\", sum)\n",
    "    elif choice == '3':\n",
    "        print(\"Thank you for using us, Goodbye!\")\n",
    "        break\n"
   ]
  }
 ],
 "metadata": {
  "kernelspec": {
   "display_name": "rnw",
   "language": "python",
   "name": "python3"
  },
  "language_info": {
   "codemirror_mode": {
    "name": "ipython",
    "version": 3
   },
   "file_extension": ".py",
   "mimetype": "text/x-python",
   "name": "python",
   "nbconvert_exporter": "python",
   "pygments_lexer": "ipython3",
   "version": "3.10.6"
  }
 },
 "nbformat": 4,
 "nbformat_minor": 5
}
