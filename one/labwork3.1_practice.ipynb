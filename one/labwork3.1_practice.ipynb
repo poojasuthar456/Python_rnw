{
 "cells": [
  {
   "cell_type": "code",
   "execution_count": 4,
   "id": "6d23de21",
   "metadata": {},
   "outputs": [
    {
     "name": "stdout",
     "output_type": "stream",
     "text": [
      "Hello, it's pooja suthar!\n"
     ]
    }
   ],
   "source": [
    "# Q1\n",
    "fname = input(\"Enter your first name\")\n",
    "lname = input(\"Enter your last name\")\n",
    "print(f\"Hello, it's {fname} {lname}!\")"
   ]
  },
  {
   "cell_type": "code",
   "execution_count": 3,
   "id": "e8d16b5b",
   "metadata": {},
   "outputs": [
    {
     "name": "stdout",
     "output_type": "stream",
     "text": [
      "apple 5.5 ₹\n"
     ]
    }
   ],
   "source": [
    "# Q2\n",
    "\n",
    "item_name = input(\"Enter item name\")\n",
    "price = float(input(\"Enter the price of the item\"))\n",
    "print(f\"{item_name} {price} ₹\")"
   ]
  },
  {
   "cell_type": "code",
   "execution_count": null,
   "id": "d1f97e3b",
   "metadata": {},
   "outputs": [],
   "source": [
    "# Q3\n",
    "string = input()"
   ]
  }
 ],
 "metadata": {
  "kernelspec": {
   "display_name": "Python 3",
   "language": "python",
   "name": "python3"
  },
  "language_info": {
   "codemirror_mode": {
    "name": "ipython",
    "version": 3
   },
   "file_extension": ".py",
   "mimetype": "text/x-python",
   "name": "python",
   "nbconvert_exporter": "python",
   "pygments_lexer": "ipython3",
   "version": "3.10.6"
  }
 },
 "nbformat": 4,
 "nbformat_minor": 5
}
