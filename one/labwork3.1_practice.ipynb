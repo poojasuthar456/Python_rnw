{
 "cells": [
  {
   "cell_type": "code",
   "execution_count": 4,
   "id": "6d23de21",
   "metadata": {},
   "outputs": [
    {
     "name": "stdout",
     "output_type": "stream",
     "text": [
      "Hello, it's pooja suthar!\n"
     ]
    }
   ],
   "source": [
    "# Q1\n",
    "fname = input(\"Enter your first name\")\n",
    "lname = input(\"Enter your last name\")\n",
    "print(f\"Hello, it's {fname} {lname}!\")"
   ]
  },
  {
   "cell_type": "code",
   "execution_count": 3,
   "id": "e8d16b5b",
   "metadata": {},
   "outputs": [
    {
     "name": "stdout",
     "output_type": "stream",
     "text": [
      "apple 5.5 ₹\n"
     ]
    }
   ],
   "source": [
    "# Q2\n",
    "\n",
    "item_name = input(\"Enter item name\")\n",
    "price = float(input(\"Enter the price of the item\"))\n",
    "print(f\"{item_name} {price} ₹\")"
   ]
  },
  {
   "cell_type": "code",
   "execution_count": null,
   "id": "d1f97e3b",
   "metadata": {},
   "outputs": [],
   "source": [
    "# Q3\n",
    "string = input()"
   ]
  },
  {
   "cell_type": "code",
   "execution_count": 1,
   "id": "92ccbe8c",
   "metadata": {},
   "outputs": [
    {
     "ename": "ModuleNotFoundError",
     "evalue": "No module named 'pandas'",
     "output_type": "error",
     "traceback": [
      "\u001b[1;31m---------------------------------------------------------------------------\u001b[0m",
      "\u001b[1;31mModuleNotFoundError\u001b[0m                       Traceback (most recent call last)",
      "Cell \u001b[1;32mIn[1], line 1\u001b[0m\n\u001b[1;32m----> 1\u001b[0m \u001b[38;5;28;01mimport\u001b[39;00m\u001b[38;5;250m \u001b[39m\u001b[38;5;21;01mpandas\u001b[39;00m\u001b[38;5;250m \u001b[39m\u001b[38;5;28;01mas\u001b[39;00m\u001b[38;5;250m \u001b[39m\u001b[38;5;21;01mpd\u001b[39;00m\n\u001b[0;32m      3\u001b[0m data\u001b[38;5;241m=\u001b[39m [apple, mango, banana]\n\u001b[0;32m      4\u001b[0m index\u001b[38;5;241m=\u001b[39m [\u001b[38;5;124m'\u001b[39m\u001b[38;5;124ma\u001b[39m\u001b[38;5;124m'\u001b[39m,\u001b[38;5;124m'\u001b[39m\u001b[38;5;124mb\u001b[39m\u001b[38;5;124m'\u001b[39m,\u001b[38;5;124m'\u001b[39m\u001b[38;5;124mc\u001b[39m\u001b[38;5;124m'\u001b[39m]\n",
      "\u001b[1;31mModuleNotFoundError\u001b[0m: No module named 'pandas'"
     ]
    }
   ],
   "source": [
    "import pandas as pd\n",
    "\n",
    "data= [apple, mango, banana]\n",
    "index= ['a','b','c']\n",
    "\n",
    "series1 = pd.Series(data, index=index)\n",
    "print(series1)\n"
   ]
  },
  {
   "cell_type": "code",
   "execution_count": 2,
   "id": "9065de42",
   "metadata": {},
   "outputs": [
    {
     "name": "stdout",
     "output_type": "stream",
     "text": [
      "7\n"
     ]
    }
   ],
   "source": [
    "def add(x=1, y=2):  \n",
    "    return x + y  \n",
    "print(add(5))  \n"
   ]
  }
 ],
 "metadata": {
  "kernelspec": {
   "display_name": "rnw",
   "language": "python",
   "name": "python3"
  },
  "language_info": {
   "codemirror_mode": {
    "name": "ipython",
    "version": 3
   },
   "file_extension": ".py",
   "mimetype": "text/x-python",
   "name": "python",
   "nbconvert_exporter": "python",
   "pygments_lexer": "ipython3",
   "version": "3.10.6"
  }
 },
 "nbformat": 4,
 "nbformat_minor": 5
}
