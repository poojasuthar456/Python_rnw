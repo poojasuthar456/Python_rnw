{
 "cells": [
  {
   "cell_type": "code",
   "execution_count": 3,
   "id": "76818218",
   "metadata": {},
   "outputs": [
    {
     "name": "stdout",
     "output_type": "stream",
     "text": [
      "Current folder: d:\\Python_rnw\\one\n",
      "Files: ['c.py', 'collection manipulator test.ipynb', 'collection manipultor.py', 'file_operator.ipynb', 'file_operator.py', 'functionalTreat.ipynb', 'fundamental_test.ipynb', 'funtionalTreat.py', 'intro1.ipynb', 'logical.py', 'logicbox.ipynb', 'MyJournal.txt', 'OOP.ipynb', 'oop.py', 'practice.py', 'test_folder', 'xyz.ipynb']\n"
     ]
    }
   ],
   "source": [
    "import os\n",
    "\n",
    "print(\"Current folder:\", os.getcwd())      # Shows your current working directory\n",
    "\n",
    "# os.mkdir(\"test_folder\")                    # Creates a new folder named \"test_folder\"\n",
    "\n",
    "print(\"Files:\", os.listdir())              # Lists everything in the current folder\n",
    "\n"
   ]
  },
  {
   "cell_type": "code",
   "execution_count": null,
   "id": "045afd4d",
   "metadata": {},
   "outputs": [
    {
     "name": "stdout",
     "output_type": "stream",
     "text": [
      "5\n"
     ]
    }
   ],
   "source": [
    "a= input(\"a= \")\n",
    "b= input(\"b= \")\n",
    "c= input(\"c= \")\n",
    "if a>b>c:\n",
    "    print(a)\n",
    "\n",
    "elif a<b>c:\n",
    "    print(b)\n",
    "\n",
    "else:\n",
    "    print(c)\n",
    "\n",
    "\n"
   ]
  },
  {
   "cell_type": "code",
   "execution_count": 18,
   "id": "23b1f702",
   "metadata": {},
   "outputs": [
    {
     "name": "stdout",
     "output_type": "stream",
     "text": [
      "6\n"
     ]
    }
   ],
   "source": [
    "a= input(\"a= \")\n",
    "b= input(\"b= \")\n",
    "c= input(\"c= \")  \n",
    "if a>=b and a>=c:\n",
    "    print(a)\n",
    "elif b>=a and b>=c:\n",
    "    print(b)\n",
    "else:\n",
    "    print(c)"
   ]
  }
 ],
 "metadata": {
  "kernelspec": {
   "display_name": "rnw",
   "language": "python",
   "name": "python3"
  },
  "language_info": {
   "codemirror_mode": {
    "name": "ipython",
    "version": 3
   },
   "file_extension": ".py",
   "mimetype": "text/x-python",
   "name": "python",
   "nbconvert_exporter": "python",
   "pygments_lexer": "ipython3",
   "version": "3.10.6"
  }
 },
 "nbformat": 4,
 "nbformat_minor": 5
}
